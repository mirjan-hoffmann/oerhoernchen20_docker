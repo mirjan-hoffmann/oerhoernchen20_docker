{
 "cells": [
  {
   "cell_type": "code",
   "execution_count": 1,
   "metadata": {},
   "outputs": [],
   "source": [
    "import pandas as pd\n",
    "import mysql.connector as sql\n",
    "from geopy.geocoders import Nominatim\n",
    "import geopy.geocoders\n",
    "\n",
    "pd.options.display.max_colwidth = 200"
   ]
  },
  {
   "cell_type": "code",
   "execution_count": 2,
   "metadata": {},
   "outputs": [],
   "source": [
    "indices = ['hoou','oerinfo','hhu','openrub','digill','zoerr', 'tibav', 'oncampus']\n",
    "\n",
    "col_names = [\n",
    "    \"name\",\n",
    "    \"about\",\n",
    "    \"author\",\n",
    "    \"publisher\",\n",
    "    \"inLanguage\",\n",
    "    \"accessibilityAPI\",\n",
    "    \"accessibilityControl\",\n",
    "    \"accessibilityFeature\",\n",
    "    \"accessibilityHazard\",\n",
    "    \"license\",\n",
    "    \"timeRequired\",\n",
    "    \"educationalRole\",\n",
    "    \"alignmentType\",\n",
    "    \"educationalFramework\",\n",
    "    \"targetDescription\",\n",
    "    \"targetName\",\n",
    "    \"targetURL\",\n",
    "    \"educationalUse\",\n",
    "    \"typicalAgeRange\",\n",
    "    \"interactivityType\",\n",
    "    \"learningResourceType\",\n",
    "    \"date_published\",\n",
    "    \"url\",\n",
    "    \"thumbnail\",\n",
    "    \"tags\",\n",
    "    \"project\",\n",
    "    \"source\",\n",
    "    \"spider\",\n",
    "    \"date_scraped\"\n",
    "]\n",
    "\n",
    "df = {}\n",
    "\n",
    "def make_dataframes():\n",
    "    for index in indices:\n",
    "        db_connection = sql.connect(\n",
    "        host='localhost', \n",
    "        database='oerhoernchen_db', \n",
    "        user='oerhoernchen', \n",
    "        password='oerhoernchenpw')\n",
    "        db_cursor = db_connection.cursor()\n",
    "        db_cursor.execute('SELECT * FROM ' + index + '_tb')\n",
    "        table_rows = db_cursor.fetchall()\n",
    "        df[index] = pd.DataFrame(table_rows, columns=col_names)\n",
    "\n",
    "make_dataframes()"
   ]
  },
  {
   "cell_type": "code",
   "execution_count": 19,
   "metadata": {},
   "outputs": [],
   "source": [
    "# Geo stuff\n",
    "geolocator = Nominatim(user_agent=\"oercrawler\")\n",
    "location_digill = geolocator.geocode(\"Ruhr-Universität Bochum\")\n",
    "location_hhu = geolocator.geocode(\"Heinrich-Heine-Universität Düsseldorf\")\n",
    "location_hoou = geolocator.geocode(\"Hamburg Online University\")\n",
    "location_oerinfo = geolocator.geocode(\"DIPF Leibniz-Institut für Bildungsforschung und Bildungsinformation\")\n",
    "location_oncampus = geolocator.geocode(\"Fachhochschule Lübeck\")\n",
    "location_openrub = geolocator.geocode(\"Ruhr Universität Bochum\")\n",
    "location_tibav = geolocator.geocode(\"TIB Hannover\")\n",
    "location_zoerr = geolocator.geocode(\"Universität Tübingen\")"
   ]
  },
  {
   "cell_type": "code",
   "execution_count": 20,
   "metadata": {},
   "outputs": [],
   "source": [
    "def add_location(row):\n",
    "    if row['source'] == \"HOOU\":\n",
    "        address = location_hoou.address \n",
    "        lat = location_hoou.latitude\n",
    "        lon = location_hoou.longitude     \n",
    "        return address, lat, lon\n",
    "    elif row['source'] == \"digiLL\":\n",
    "        address = location_digill.address \n",
    "        lat = location_digill.latitude\n",
    "        lon = location_digill.longitude\n",
    "        return address, lat, lon\n",
    "    elif row['source'] == \"HHU-Mediathek\":\n",
    "        address = location_hhu.address \n",
    "        lat = location_hhu.latitude\n",
    "        lon = location_hhu.longitude\n",
    "        return address, lat, lon\n",
    "    elif row['source'] == \"OERinfo\":\n",
    "        address = location_oerinfo.address \n",
    "        lat = location_oerinfo.latitude\n",
    "        lon = location_oerinfo.longitude \n",
    "        return address, lat, lon\n",
    "    elif row['source'] == \"ONCAMPUS\":\n",
    "        address = location_oncampus.address \n",
    "        lat = location_oncampus.latitude\n",
    "        lon = location_oncampus.longitude \n",
    "        return address, lat, lon\n",
    "    elif row['source'] == \"OpenRub\":\n",
    "        address = location_openrub.address \n",
    "        lat = location_openrub.latitude\n",
    "        lon = location_openrub.longitude \n",
    "        return address, lat, lon\n",
    "    elif row['source'] == \"TIB-AV-Portal\":\n",
    "        address = location_tibav.address \n",
    "        lat = location_tibav.latitude\n",
    "        lon = location_tibav.longitude \n",
    "        return address, lat, lon\n",
    "    elif row['source'] == \"ZOERR\":\n",
    "        address = location_zoerr.address \n",
    "        lat = location_zoerr.latitude\n",
    "        lon = location_zoerr.longitude \n",
    "        return address, lat, lon"
   ]
  },
  {
   "cell_type": "code",
   "execution_count": 21,
   "metadata": {},
   "outputs": [],
   "source": [
    "def write_location_to_df():\n",
    "    for index in indices:\n",
    "        df[index]['location'] = df[index].apply(add_location, axis=1)\n",
    "        df[index]['lat_lon'] = df[index]['location'].apply(lambda x: (x[-2], x[-1]))\n",
    "        df[index].drop(columns=['location'], inplace=True)\n",
    "        df[index]['lat_lon'] = df[index]['lat_lon'].astype(str)\n",
    "        df[index]['lat_lon'] = df[index]['lat_lon'].str.replace(\"(\", \"\").str.replace(\")\", \"\")\n",
    "write_location_to_df()"
   ]
  },
  {
   "cell_type": "code",
   "execution_count": 1,
   "metadata": {},
   "outputs": [],
   "source": [
    "# Import dataframe into MySQL\n",
    "import sqlalchemy\n",
    "database_username = 'root'\n",
    "database_password = 'my-secret-pw'\n",
    "database_ip       = 'localhost:3306'\n",
    "database_name     = 'oerhoernchen_db'\n",
    "engine = sqlalchemy.create_engine('mysql+mysqlconnector://{0}:{1}@{2}/{3}'.format(database_username, database_password, database_ip, database_name))"
   ]
  },
  {
   "cell_type": "code",
   "execution_count": 23,
   "metadata": {},
   "outputs": [],
   "source": [
    "for index in indices:\n",
    "    df[index].to_sql(name=index + \"_tb_edited\", con=engine, index=False, if_exists='replace')"
   ]
  },
  {
   "cell_type": "code",
   "execution_count": 6,
   "metadata": {},
   "outputs": [
    {
     "ename": "NameError",
     "evalue": "name 'engine' is not defined",
     "output_type": "error",
     "traceback": [
      "\u001b[0;31m---------------------------------------------------------------------------\u001b[0m",
      "\u001b[0;31mNameError\u001b[0m                                 Traceback (most recent call last)",
      "\u001b[0;32m<ipython-input-6-6023e01d7877>\u001b[0m in \u001b[0;36m<module>\u001b[0;34m\u001b[0m\n\u001b[1;32m      1\u001b[0m \u001b[0;31m# How to read in with sqlalchemy\u001b[0m\u001b[0;34m\u001b[0m\u001b[0;34m\u001b[0m\u001b[0;34m\u001b[0m\u001b[0m\n\u001b[0;32m----> 2\u001b[0;31m \u001b[0mdf2\u001b[0m \u001b[0;34m=\u001b[0m \u001b[0mpd\u001b[0m\u001b[0;34m.\u001b[0m\u001b[0mread_sql_table\u001b[0m\u001b[0;34m(\u001b[0m\u001b[0;34m\"hhu_tb\"\u001b[0m\u001b[0;34m,\u001b[0m \u001b[0mengine\u001b[0m\u001b[0;34m)\u001b[0m\u001b[0;34m\u001b[0m\u001b[0;34m\u001b[0m\u001b[0m\n\u001b[0m\u001b[1;32m      3\u001b[0m \u001b[0mdf2\u001b[0m\u001b[0;34m\u001b[0m\u001b[0;34m\u001b[0m\u001b[0m\n",
      "\u001b[0;31mNameError\u001b[0m: name 'engine' is not defined"
     ]
    }
   ],
   "source": [
    "# How to read in with sqlalchemy\n",
    "df2 = pd.read_sql_table(\"hhu_tb\", engine)\n",
    "df2"
   ]
  },
  {
   "cell_type": "code",
   "execution_count": 2,
   "metadata": {},
   "outputs": [],
   "source": [
    "import pandas as pd\n"
   ]
  },
  {
   "cell_type": "code",
   "execution_count": 3,
   "metadata": {},
   "outputs": [],
   "source": [
    "df = pd.read_sql_table(\"indices\", engine)"
   ]
  },
  {
   "cell_type": "code",
   "execution_count": 4,
   "metadata": {},
   "outputs": [
    {
     "data": {
      "text/html": [
       "<div>\n",
       "<style scoped>\n",
       "    .dataframe tbody tr th:only-of-type {\n",
       "        vertical-align: middle;\n",
       "    }\n",
       "\n",
       "    .dataframe tbody tr th {\n",
       "        vertical-align: top;\n",
       "    }\n",
       "\n",
       "    .dataframe thead th {\n",
       "        text-align: right;\n",
       "    }\n",
       "</style>\n",
       "<table border=\"1\" class=\"dataframe\">\n",
       "  <thead>\n",
       "    <tr style=\"text-align: right;\">\n",
       "      <th></th>\n",
       "      <th>name</th>\n",
       "      <th>url</th>\n",
       "      <th>read</th>\n",
       "    </tr>\n",
       "  </thead>\n",
       "  <tbody>\n",
       "    <tr>\n",
       "      <th>0</th>\n",
       "      <td>HOOU</td>\n",
       "      <td>www.hoou.de/sitemap.xml</td>\n",
       "      <td>1</td>\n",
       "    </tr>\n",
       "    <tr>\n",
       "      <th>1</th>\n",
       "      <td>oer_oerinfo</td>\n",
       "      <td>www.oerinfo.de/sitemap.xml</td>\n",
       "      <td>1</td>\n",
       "    </tr>\n",
       "  </tbody>\n",
       "</table>\n",
       "</div>"
      ],
      "text/plain": [
       "          name                         url  read\n",
       "0         HOOU     www.hoou.de/sitemap.xml     1\n",
       "1  oer_oerinfo  www.oerinfo.de/sitemap.xml     1"
      ]
     },
     "execution_count": 4,
     "metadata": {},
     "output_type": "execute_result"
    }
   ],
   "source": [
    "df"
   ]
  },
  {
   "cell_type": "code",
   "execution_count": 5,
   "metadata": {},
   "outputs": [],
   "source": [
    "SITEMAPS = [{'name': 'HOOU', 'url': 'www.hoou.de/sitemap.xml', 'read': 1}, {'name': 'oer_oerinfo', 'url': 'www.oerinfo.de/sitemap.xml', 'read': 1}]"
   ]
  },
  {
   "cell_type": "code",
   "execution_count": 6,
   "metadata": {},
   "outputs": [],
   "source": [
    "df_list = pd.DataFrame(SITEMAPS)"
   ]
  },
  {
   "cell_type": "code",
   "execution_count": 7,
   "metadata": {},
   "outputs": [
    {
     "data": {
      "text/html": [
       "<div>\n",
       "<style scoped>\n",
       "    .dataframe tbody tr th:only-of-type {\n",
       "        vertical-align: middle;\n",
       "    }\n",
       "\n",
       "    .dataframe tbody tr th {\n",
       "        vertical-align: top;\n",
       "    }\n",
       "\n",
       "    .dataframe thead th {\n",
       "        text-align: right;\n",
       "    }\n",
       "</style>\n",
       "<table border=\"1\" class=\"dataframe\">\n",
       "  <thead>\n",
       "    <tr style=\"text-align: right;\">\n",
       "      <th></th>\n",
       "      <th>name</th>\n",
       "      <th>url</th>\n",
       "      <th>read</th>\n",
       "    </tr>\n",
       "  </thead>\n",
       "  <tbody>\n",
       "    <tr>\n",
       "      <th>0</th>\n",
       "      <td>HOOU</td>\n",
       "      <td>www.hoou.de/sitemap.xml</td>\n",
       "      <td>1</td>\n",
       "    </tr>\n",
       "    <tr>\n",
       "      <th>1</th>\n",
       "      <td>oer_oerinfo</td>\n",
       "      <td>www.oerinfo.de/sitemap.xml</td>\n",
       "      <td>1</td>\n",
       "    </tr>\n",
       "  </tbody>\n",
       "</table>\n",
       "</div>"
      ],
      "text/plain": [
       "          name                         url  read\n",
       "0         HOOU     www.hoou.de/sitemap.xml     1\n",
       "1  oer_oerinfo  www.oerinfo.de/sitemap.xml     1"
      ]
     },
     "execution_count": 7,
     "metadata": {},
     "output_type": "execute_result"
    }
   ],
   "source": [
    "df_list"
   ]
  },
  {
   "cell_type": "code",
   "execution_count": null,
   "metadata": {},
   "outputs": [],
   "source": []
  }
 ],
 "metadata": {
  "kernelspec": {
   "display_name": "scrapy",
   "language": "python",
   "name": "scrapy"
  },
  "language_info": {
   "codemirror_mode": {
    "name": "ipython",
    "version": 3
   },
   "file_extension": ".py",
   "mimetype": "text/x-python",
   "name": "python",
   "nbconvert_exporter": "python",
   "pygments_lexer": "ipython3",
   "version": "3.7.4"
  }
 },
 "nbformat": 4,
 "nbformat_minor": 4
}
